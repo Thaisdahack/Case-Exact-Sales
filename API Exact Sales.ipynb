{
 "cells": [
  {
   "cell_type": "markdown",
   "id": "af3193f4",
   "metadata": {},
   "source": [
    "### Importing libraries"
   ]
  },
  {
   "cell_type": "code",
   "execution_count": 1,
   "id": "2fd66840",
   "metadata": {
    "ExecuteTime": {
     "end_time": "2022-06-09T15:16:34.060164Z",
     "start_time": "2022-06-09T15:16:30.796244Z"
    }
   },
   "outputs": [],
   "source": [
    "import requests\n",
    "import pandas as pd\n",
    "import numpy as np\n"
   ]
  },
  {
   "cell_type": "code",
   "execution_count": 7,
   "id": "241f9bb3",
   "metadata": {
    "ExecuteTime": {
     "end_time": "2022-06-09T22:04:17.917404Z",
     "start_time": "2022-06-09T22:04:16.637133Z"
    }
   },
   "outputs": [
    {
     "data": {
      "text/plain": [
       "<Response [404]>"
      ]
     },
     "execution_count": 7,
     "metadata": {},
     "output_type": "execute_result"
    }
   ],
   "source": [
    "# \"GET\" request from website\n",
    "response = requests.get('https://api.exactspotter.com/v3', headers = {\"token_exact\": \"token\"})\n",
    "response"
   ]
  },
  {
   "cell_type": "code",
   "execution_count": 4,
   "id": "f8f5b728",
   "metadata": {
    "ExecuteTime": {
     "end_time": "2022-06-09T17:46:20.423134Z",
     "start_time": "2022-06-09T17:46:20.403332Z"
    }
   },
   "outputs": [
    {
     "data": {
      "text/plain": [
       "{'statusCode': 404, 'message': 'Resource not found'}"
      ]
     },
     "execution_count": 4,
     "metadata": {},
     "output_type": "execute_result"
    }
   ],
   "source": [
    "# Store results in a python variable\n",
    "\n",
    "results = response.json()\n",
    "results\n",
    "\n",
    "# the API website wasn't find"
   ]
  }
 ],
 "metadata": {
  "kernelspec": {
   "display_name": "Python 3",
   "language": "python",
   "name": "python3"
  },
  "language_info": {
   "codemirror_mode": {
    "name": "ipython",
    "version": 3
   },
   "file_extension": ".py",
   "mimetype": "text/x-python",
   "name": "python",
   "nbconvert_exporter": "python",
   "pygments_lexer": "ipython3",
   "version": "3.8.8"
  },
  "toc": {
   "base_numbering": 1,
   "nav_menu": {},
   "number_sections": true,
   "sideBar": true,
   "skip_h1_title": false,
   "title_cell": "Table of Contents",
   "title_sidebar": "Contents",
   "toc_cell": false,
   "toc_position": {},
   "toc_section_display": true,
   "toc_window_display": false
  },
  "varInspector": {
   "cols": {
    "lenName": 16,
    "lenType": 16,
    "lenVar": 40
   },
   "kernels_config": {
    "python": {
     "delete_cmd_postfix": "",
     "delete_cmd_prefix": "del ",
     "library": "var_list.py",
     "varRefreshCmd": "print(var_dic_list())"
    },
    "r": {
     "delete_cmd_postfix": ") ",
     "delete_cmd_prefix": "rm(",
     "library": "var_list.r",
     "varRefreshCmd": "cat(var_dic_list()) "
    }
   },
   "types_to_exclude": [
    "module",
    "function",
    "builtin_function_or_method",
    "instance",
    "_Feature"
   ],
   "window_display": false
  }
 },
 "nbformat": 4,
 "nbformat_minor": 5
}
